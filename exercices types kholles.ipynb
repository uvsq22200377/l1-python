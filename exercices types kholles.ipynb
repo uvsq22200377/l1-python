{
 "cells": [
  {
   "cell_type": "code",
   "execution_count": 1,
   "metadata": {},
   "outputs": [
    {
     "name": "stdout",
     "output_type": "stream",
     "text": [
      "1.5\n",
      "1\n",
      "2.0\n",
      "2\n"
     ]
    }
   ],
   "source": [
    "#exercice 1:\n",
    "print (3/2)\n",
    "print (3//2)\n",
    "print (4/2)\n",
    "print (4//2)"
   ]
  },
  {
   "cell_type": "code",
   "execution_count": 3,
   "metadata": {},
   "outputs": [
    {
     "name": "stdout",
     "output_type": "stream",
     "text": [
      "True\n"
     ]
    }
   ],
   "source": [
    "print(5 * 3 == 15 or 4 * 2== 9 and 18 //6==2)"
   ]
  },
  {
   "cell_type": "code",
   "execution_count": 4,
   "metadata": {},
   "outputs": [
    {
     "ename": "SyntaxError",
     "evalue": "expression cannot contain assignment, perhaps you meant \"==\"? (2165646033.py, line 2)",
     "output_type": "error",
     "traceback": [
      "\u001b[1;36m  Input \u001b[1;32mIn [4]\u001b[1;36m\u001b[0m\n\u001b[1;33m    print(type(12 = 3 * 4))\u001b[0m\n\u001b[1;37m               ^\u001b[0m\n\u001b[1;31mSyntaxError\u001b[0m\u001b[1;31m:\u001b[0m expression cannot contain assignment, perhaps you meant \"==\"?\n"
     ]
    }
   ],
   "source": [
    "# exercice 4\n",
    "print(type(12 = 3 * 4))"
   ]
  },
  {
   "cell_type": "markdown",
   "metadata": {},
   "source": [
    "2- If Else Elif"
   ]
  },
  {
   "cell_type": "code",
   "execution_count": 9,
   "metadata": {},
   "outputs": [
    {
     "name": "stdout",
     "output_type": "stream",
     "text": [
      "1 2\n"
     ]
    }
   ],
   "source": [
    "#exercice 1\n",
    "a = int(input(\"choisir un nombre a\"))\n",
    "b = int(input(\"choisir un nombre b\"))\n",
    "\n",
    "if a>b:\n",
    "    a,b=b,a\n",
    "else:\n",
    "    a,b=a,b\n",
    "print (a,b)"
   ]
  },
  {
   "cell_type": "code",
   "execution_count": 10,
   "metadata": {},
   "outputs": [
    {
     "name": "stdout",
     "output_type": "stream",
     "text": [
      "n'est pas diviseur\n"
     ]
    }
   ],
   "source": [
    "#exercice 2\n",
    "import random\n",
    "c = random.randint (10 , 99)\n",
    "d = int(input(\"choisir un nombre\"))\n",
    "if d > 1 and c%d == 0:\n",
    "    print (\"Diviseur\")\n",
    "else:\n",
    "    print (\"n'est pas diviseur\")\n"
   ]
  },
  {
   "cell_type": "code",
   "execution_count": 11,
   "metadata": {},
   "outputs": [],
   "source": [
    "#exercice 3\n",
    "var1 = 34\n",
    "var2 = -7\n",
    "\n",
    "if var1 > 0 and var2 > 0 or var1 < 0 and var2 < 0:\n",
    "    var1 , var2 = var2 , var1\n",
    "else:\n",
    "    x = var1 ** var2\n",
    "    var2 = var1 * var2\n",
    "    var1 = x\n"
   ]
  },
  {
   "cell_type": "code",
   "execution_count": 12,
   "metadata": {},
   "outputs": [],
   "source": [
    "var1 = 34\n",
    "var2 = -7\n",
    "if var1 * var2 > 0:\n",
    "    var1 , var2 = var2 , var1\n",
    "else:\n",
    "    var1 , var2 = var1 ** var2, var1*var2\n"
   ]
  },
  {
   "cell_type": "markdown",
   "metadata": {},
   "source": [
    "3- For / While"
   ]
  },
  {
   "cell_type": "code",
   "execution_count": null,
   "metadata": {},
   "outputs": [],
   "source": [
    "#exercice 1"
   ]
  },
  {
   "cell_type": "code",
   "execution_count": null,
   "metadata": {},
   "outputs": [],
   "source": [
    "#exercice 2\n"
   ]
  },
  {
   "cell_type": "code",
   "execution_count": null,
   "metadata": {},
   "outputs": [],
   "source": [
    "#exercice 3"
   ]
  }
 ],
 "metadata": {
  "kernelspec": {
   "display_name": "Python 3.10.4 ('l1-python')",
   "language": "python",
   "name": "python3"
  },
  "language_info": {
   "codemirror_mode": {
    "name": "ipython",
    "version": 3
   },
   "file_extension": ".py",
   "mimetype": "text/x-python",
   "name": "python",
   "nbconvert_exporter": "python",
   "pygments_lexer": "ipython3",
   "version": "3.10.4"
  },
  "orig_nbformat": 4,
  "vscode": {
   "interpreter": {
    "hash": "fb97550c948ff508c1abafbda44419ebf66edee586da71055e93694365c36c61"
   }
  }
 },
 "nbformat": 4,
 "nbformat_minor": 2
}
